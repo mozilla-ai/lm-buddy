{
 "cells": [
  {
   "cell_type": "markdown",
   "id": "123e34e9-70f8-42ab-b790-b59ddc01b1f3",
   "metadata": {},
   "source": [
    "# Development Workflow"
   ]
  },
  {
   "cell_type": "markdown",
   "id": "9366fd9e",
   "metadata": {},
   "source": [
    "## File-based Submission"
   ]
  },
  {
   "cell_type": "markdown",
   "id": "fcd5240e",
   "metadata": {},
   "source": [
    "This demonstrates the basic workflow for submitting a Flamingo job to Ray\n",
    "from a configuration stored as a local file.\n",
    "\n",
    "The job configuration is stored as a YAML file in a the local `configs` directory,\n",
    "and that directory is specified as the working directory of the Ray runtime environment upon submission."
   ]
  },
  {
   "cell_type": "code",
   "execution_count": null,
   "id": "9b26d777",
   "metadata": {},
   "outputs": [],
   "source": [
    "# Required imports\n",
    "import os\n",
    "from pathlib import Path\n",
    "\n",
    "from ray.job_submission import JobSubmissionClient"
   ]
  },
  {
   "cell_type": "code",
   "execution_count": null,
   "id": "969884e5-d815-42d9-9d4e-3b8f890657e2",
   "metadata": {},
   "outputs": [],
   "source": [
    "# Create a submission client bound to a Ray cluster\n",
    "# Note: You will likely have to update the cluster address shown below\n",
    "client = JobSubmissionClient(\"http://10.146.174.91:8265\")"
   ]
  },
  {
   "cell_type": "code",
   "execution_count": null,
   "id": "3258bb97-d3c6-4fee-aa0c-962c1411eaa7",
   "metadata": {},
   "outputs": [],
   "source": [
    "# Determine local module path for the flamingo repo\n",
    "# In theory this workflow is possible without having the flamingo package installed locally,\n",
    "# but this is a convenient means to access the local module path\n",
    "import flamingo\n",
    "\n",
    "flamingo_module = Path(flamingo.__file__).parent"
   ]
  },
  {
   "cell_type": "code",
   "execution_count": null,
   "id": "b81b36be-35ce-4398-a6d4-ac1f719f5c95",
   "metadata": {},
   "outputs": [],
   "source": [
    "# Construct the runtime environment for your job submission\n",
    "# py_modules contains the path to the local flamingo module directory\n",
    "# pip contains an export of the dependencies for the flamingo package (see CONTRIBUTING.md for how to generate)\n",
    "runtime_env = {\n",
    "    \"working_dir\": \"configs\",\n",
    "    \"env_vars\": {\"WANDB_API_KEY\": os.environ[\"WANDB_API_KEY\"]},  # If running a job that uses W&B\n",
    "    \"py_modules\": [str(flamingo_module)],\n",
    "    \"pip\": \"requirements.txt\",  # See CONTRIBUTING.md for how to generate this\n",
    "}"
   ]
  },
  {
   "cell_type": "code",
   "execution_count": null,
   "id": "4bd300f9-b863-4413-bd3a-430601656816",
   "metadata": {},
   "outputs": [],
   "source": [
    "# Submit the job to the Ray cluster\n",
    "# Note: flamingo is invoked by 'python -m flamingo' since the CLI is not installed in the environment\n",
    "client.submit_job(\n",
    "    entrypoint=f\"python -m flamingo run simple --config simple_config.yaml\",\n",
    "    runtime_env=runtime_env,\n",
    ")"
   ]
  },
  {
   "cell_type": "markdown",
   "id": "425be140",
   "metadata": {},
   "source": [
    "## Iterative Submission"
   ]
  },
  {
   "cell_type": "markdown",
   "id": "e99ce273",
   "metadata": {},
   "source": [
    "It is also possible to submit Flamingo jobs using a fully Python/Jupyter driven workflow.\n",
    "\n",
    "In this case, the Flamingo job configuration is instantiated in your Python script\n",
    "and written to a temporary directory for submission. \n",
    "\n",
    "The Ray working directory is based off this temporary YAML file location.\n",
    "\n",
    "This approach is convenient if you want to run sweeps over parameter ranges\n",
    "and use a Python script/Jupyter notebook as your local \"driver\" for the workflow."
   ]
  },
  {
   "cell_type": "code",
   "execution_count": null,
   "id": "0cfccaa9",
   "metadata": {},
   "outputs": [],
   "source": [
    "# Required imports\n",
    "import os\n",
    "from pathlib import Path\n",
    "\n",
    "from ray.job_submission import JobSubmissionClient"
   ]
  },
  {
   "cell_type": "code",
   "execution_count": null,
   "id": "a51235ed",
   "metadata": {},
   "outputs": [],
   "source": [
    "# Create a submission client bound to a Ray cluster\n",
    "# Note: You will likely have to update the cluster address shown below\n",
    "client = JobSubmissionClient(\"http://10.147.154.77:8265\")"
   ]
  },
  {
   "cell_type": "code",
   "execution_count": null,
   "id": "a1216c43",
   "metadata": {},
   "outputs": [],
   "source": [
    "# Determine local module path for the flamingo repo\n",
    "# In theory this workflow is possible without having the flamingo package installed locally,\n",
    "# but this is a convenient means to access the local module path\n",
    "import flamingo\n",
    "\n",
    "flamingo_module = Path(flamingo.__file__).parent"
   ]
  },
  {
   "cell_type": "code",
   "execution_count": null,
   "id": "e5715d09",
   "metadata": {},
   "outputs": [],
   "source": [
    "import os\n",
    "\n",
    "from flamingo.jobs.simple import SimpleJobConfig\n",
    "\n",
    "# Generate job configs programatically for sweeps over parameter ranges\n",
    "magic_numbers = [0, 10, 20, 40]\n",
    "\n",
    "for number in magic_numbers:\n",
    "    # Instantitate config in your workflow script\n",
    "    # You may also want to read a \"base\" config from file with some suitable defaults\n",
    "    config = SimpleJobConfig(magic_number=number)\n",
    "\n",
    "    # `config_path` is the fully qualified path to the config file on your local filesystem\n",
    "    with config.to_tempfile(name=\"config.yaml\") as config_path:\n",
    "        # `config_path.parent` is the working directory\n",
    "        runtime_env = {\n",
    "            \"working_dir\": str(config_path.parent),\n",
    "            \"env_vars\": {\"WANDB_API_KEY\": os.environ[\"WANDB_API_KEY\"]},\n",
    "            \"py_modules\": [str(flamingo_module)],\n",
    "            \"pip\": \"requirements.txt\",  # See CONTRIBUTING.md for how to generate this\n",
    "        }\n",
    "\n",
    "        # `config_path.name` is the file name within the working directory, i.e., \"config.yaml\"\n",
    "        client.submit_job(\n",
    "            entrypoint=f\"python -m flamingo run simple --config {config_path.name}\",\n",
    "            runtime_env=runtime_env,\n",
    "        )"
   ]
  }
 ],
 "metadata": {
  "kernelspec": {
   "display_name": "Python 3 (ipykernel)",
   "language": "python",
   "name": "python3"
  },
  "language_info": {
   "codemirror_mode": {
    "name": "ipython",
    "version": 3
   },
   "file_extension": ".py",
   "mimetype": "text/x-python",
   "name": "python",
   "nbconvert_exporter": "python",
   "pygments_lexer": "ipython3",
   "version": "3.10.13"
  }
 },
 "nbformat": 4,
 "nbformat_minor": 5
}
